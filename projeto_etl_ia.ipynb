{
 "cells": [
  {
   "cell_type": "code",
   "execution_count": 7,
   "id": "170fbf82",
   "metadata": {},
   "outputs": [],
   "source": [
    "import pandas as pd\n",
    "import openai"
   ]
  },
  {
   "cell_type": "code",
   "execution_count": 20,
   "id": "bff6d83c",
   "metadata": {},
   "outputs": [
    {
     "data": {
      "text/html": [
       "<div>\n",
       "<style scoped>\n",
       "    .dataframe tbody tr th:only-of-type {\n",
       "        vertical-align: middle;\n",
       "    }\n",
       "\n",
       "    .dataframe tbody tr th {\n",
       "        vertical-align: top;\n",
       "    }\n",
       "\n",
       "    .dataframe thead th {\n",
       "        text-align: right;\n",
       "    }\n",
       "</style>\n",
       "<table border=\"1\" class=\"dataframe\">\n",
       "  <thead>\n",
       "    <tr style=\"text-align: right;\">\n",
       "      <th></th>\n",
       "      <th>id</th>\n",
       "      <th>name</th>\n",
       "      <th>characteristics</th>\n",
       "    </tr>\n",
       "  </thead>\n",
       "  <tbody>\n",
       "    <tr>\n",
       "      <th>0</th>\n",
       "      <td>1</td>\n",
       "      <td>user1</td>\n",
       "      <td>Gosta de carros, apaixonado em dirigir, adora ...</td>\n",
       "    </tr>\n",
       "    <tr>\n",
       "      <th>1</th>\n",
       "      <td>2</td>\n",
       "      <td>user2</td>\n",
       "      <td>Gosta de água, adora competir e nadar.</td>\n",
       "    </tr>\n",
       "  </tbody>\n",
       "</table>\n",
       "</div>"
      ],
      "text/plain": [
       "   id   name                                    characteristics\n",
       "0   1  user1  Gosta de carros, apaixonado em dirigir, adora ...\n",
       "1   2  user2             Gosta de água, adora competir e nadar."
      ]
     },
     "execution_count": 20,
     "metadata": {},
     "output_type": "execute_result"
    }
   ],
   "source": [
    "df_a = pd.read_excel(\"atletas.xlsx\")\n",
    "df_a.head()"
   ]
  },
  {
   "cell_type": "code",
   "execution_count": 32,
   "id": "384113ab",
   "metadata": {},
   "outputs": [
    {
     "data": {
      "text/html": [
       "<div>\n",
       "<style scoped>\n",
       "    .dataframe tbody tr th:only-of-type {\n",
       "        vertical-align: middle;\n",
       "    }\n",
       "\n",
       "    .dataframe tbody tr th {\n",
       "        vertical-align: top;\n",
       "    }\n",
       "\n",
       "    .dataframe thead th {\n",
       "        text-align: right;\n",
       "    }\n",
       "</style>\n",
       "<table border=\"1\" class=\"dataframe\">\n",
       "  <thead>\n",
       "    <tr style=\"text-align: right;\">\n",
       "      <th></th>\n",
       "      <th>id</th>\n",
       "      <th>sports</th>\n",
       "    </tr>\n",
       "  </thead>\n",
       "  <tbody>\n",
       "    <tr>\n",
       "      <th>0</th>\n",
       "      <td>1</td>\n",
       "      <td>Natação; Formula 1</td>\n",
       "    </tr>\n",
       "  </tbody>\n",
       "</table>\n",
       "</div>"
      ],
      "text/plain": [
       "   id              sports\n",
       "0   1  Natação; Formula 1"
      ]
     },
     "execution_count": 32,
     "metadata": {},
     "output_type": "execute_result"
    }
   ],
   "source": [
    "df_e = pd.read_excel(\"esportes.xlsx\")\n",
    "df_e.head()"
   ]
  },
  {
   "cell_type": "code",
   "execution_count": 22,
   "id": "9913a098",
   "metadata": {},
   "outputs": [],
   "source": [
    "openai_api_key = \"chave_api\"\n",
    "openai.api_key = openai_api_key"
   ]
  },
  {
   "cell_type": "code",
   "execution_count": 33,
   "id": "09a18795",
   "metadata": {},
   "outputs": [
    {
     "name": "stdout",
     "output_type": "stream",
     "text": [
      "Para user1:Considerando as características mencionadas do atleta user1, o esporte que mais combina com ele seria o automobilismo, mais especificamente a Fórmula 1. Essa modalidade esportiva envolve carros de corrida de alta velocidade e é conhecida tanto pela paixão por dirigir quanto pela emoção da competição. Além disso, muitos pilotos de Fórmula 1 têm uma afinidade especial por carros e pelo mundo automotivo em geral, o que também se relaciona com as características mencionadas do atleta user1.\n",
      "Para user2:Com base nas características mencionadas, o esporte que mais combina com o atleta seria a natação. A natação é uma prática esportiva que envolve competição e requer habilidades na água. Sendo que o atleta gosta de água, adora competir e nadar, a natação seria a opção mais adequada para ele. A Fórmula 1, por outro lado, é um esporte automobilístico e não envolve necessariamente habilidades aquáticas.\n"
     ]
    }
   ],
   "source": [
    "for index, row_a in df_a.iterrows():\n",
    "    nome_a = row_a[\"name\"]\n",
    "    caracteristicas = row_a[\"characteristics\"]\n",
    "    \n",
    "    for index, row_e in df_e.iterrows():\n",
    "        esporte = row_e[\"sports\"]\n",
    "\n",
    "        response = openai.chat.completions.create(\n",
    "            model=\"gpt-3.5-turbo\",\n",
    "            messages=[\n",
    "                {\"role\": \"system\", \"content\": \"Você é um especialista em esportes.\"},\n",
    "                {\"role\": \"user\", \"content\": f\"Sabendo que o atleta {nome_a} tem as características {caracteristicas} qual esporte mais combina com o este atleta? Use como base esta lista de esportes: {esporte} \"},\n",
    "            ]\n",
    "        )\n",
    "        resposta = response.choices[0].message.content.strip('\\\"')\n",
    "    print(f\"Para {nome_a}:{resposta}\")    "
   ]
  }
 ],
 "metadata": {
  "kernelspec": {
   "display_name": "Python 3 (ipykernel)",
   "language": "python",
   "name": "python3"
  },
  "language_info": {
   "codemirror_mode": {
    "name": "ipython",
    "version": 3
   },
   "file_extension": ".py",
   "mimetype": "text/x-python",
   "name": "python",
   "nbconvert_exporter": "python",
   "pygments_lexer": "ipython3",
   "version": "3.11.5"
  }
 },
 "nbformat": 4,
 "nbformat_minor": 5
}
